{
 "cells": [
  {
   "cell_type": "markdown",
   "id": "58ec0b6c-e7c3-42d9-a589-10bb36e3b556",
   "metadata": {},
   "source": [
    "Notebook de ejemplo de Python"
   ]
  },
  {
   "cell_type": "code",
   "execution_count": 1,
   "id": "ba228f62-226f-47f1-9305-221a40dab1e5",
   "metadata": {},
   "outputs": [
    {
     "data": {
      "text/plain": [
       "20"
      ]
     },
     "execution_count": 1,
     "metadata": {},
     "output_type": "execute_result"
    }
   ],
   "source": [
    "2+3*6"
   ]
  },
  {
   "cell_type": "code",
   "execution_count": 3,
   "id": "c6267877-d8f6-4315-b953-61a7cc06219e",
   "metadata": {},
   "outputs": [],
   "source": [
    "potencia=2**10"
   ]
  },
  {
   "cell_type": "code",
   "execution_count": 5,
   "id": "41654876-97b6-4489-83a1-e85fea3443e6",
   "metadata": {},
   "outputs": [
    {
     "name": "stdout",
     "output_type": "stream",
     "text": [
      "1024\n"
     ]
    }
   ],
   "source": [
    "print(potencia)"
   ]
  },
  {
   "cell_type": "code",
   "execution_count": 7,
   "id": "3e72f235-ef80-48d5-8c81-a229a049749e",
   "metadata": {},
   "outputs": [
    {
     "name": "stdout",
     "output_type": "stream",
     "text": [
      "3.3333333333333335\n"
     ]
    }
   ],
   "source": [
    "print(10/3)"
   ]
  },
  {
   "cell_type": "code",
   "execution_count": 8,
   "id": "9f7f5ce3-32ea-4887-be79-a50e5baf1a67",
   "metadata": {},
   "outputs": [
    {
     "data": {
      "text/plain": [
       "3"
      ]
     },
     "execution_count": 8,
     "metadata": {},
     "output_type": "execute_result"
    }
   ],
   "source": [
    "10//3 #División entera"
   ]
  },
  {
   "cell_type": "code",
   "execution_count": 9,
   "id": "15e8fe23-ff6d-4f80-b6ad-120c2056d405",
   "metadata": {},
   "outputs": [
    {
     "data": {
      "text/plain": [
       "1"
      ]
     },
     "execution_count": 9,
     "metadata": {},
     "output_type": "execute_result"
    }
   ],
   "source": [
    "10%3"
   ]
  },
  {
   "cell_type": "code",
   "execution_count": 10,
   "id": "116610a1-fe3a-4003-b2a0-56bd7c32c5c9",
   "metadata": {},
   "outputs": [],
   "source": [
    "a=5"
   ]
  },
  {
   "cell_type": "code",
   "execution_count": 11,
   "id": "053437e4-6aea-4934-8452-b615116a6907",
   "metadata": {},
   "outputs": [],
   "source": [
    "a= \"Hola\""
   ]
  },
  {
   "cell_type": "code",
   "execution_count": 14,
   "id": "f21defb6-74f2-4edb-9396-601a4c619455",
   "metadata": {},
   "outputs": [
    {
     "data": {
      "text/plain": [
       "(str, int)"
      ]
     },
     "execution_count": 14,
     "metadata": {},
     "output_type": "execute_result"
    }
   ],
   "source": [
    "type(a), type(5)"
   ]
  },
  {
   "cell_type": "code",
   "execution_count": 21,
   "id": "45242e33-c956-4880-bb0c-f7a329d466a2",
   "metadata": {},
   "outputs": [
    {
     "name": "stdout",
     "output_type": "stream",
     "text": [
      "Hola\n",
      "¿Como te llamas?\n"
     ]
    },
    {
     "name": "stdin",
     "output_type": "stream",
     "text": [
      " Alberto\n"
     ]
    },
    {
     "name": "stdout",
     "output_type": "stream",
     "text": [
      "Encantado de conocerte Alberto\n"
     ]
    }
   ],
   "source": [
    "print(\"Hola\")\n",
    "print(\"¿Como te llamas?\")\n",
    "nombre = input()\n",
    "print(\"Encantado de conocerte \" + nombre)"
   ]
  },
  {
   "cell_type": "code",
   "execution_count": 25,
   "id": "f6c7fd02-152a-4e09-abfa-150ef6ab6d86",
   "metadata": {},
   "outputs": [
    {
     "data": {
      "text/plain": [
       "False"
      ]
     },
     "execution_count": 25,
     "metadata": {},
     "output_type": "execute_result"
    }
   ],
   "source": [
    "nombre.isdigit()"
   ]
  },
  {
   "cell_type": "code",
   "execution_count": 26,
   "id": "5cd48444-06cc-4223-bfce-6b53ee1f78ef",
   "metadata": {},
   "outputs": [
    {
     "name": "stdout",
     "output_type": "stream",
     "text": [
      "5 es mayor que 4\n"
     ]
    }
   ],
   "source": [
    "if 5>4:\n",
    "    print(\"5 es mayor que 4\")"
   ]
  },
  {
   "cell_type": "markdown",
   "id": "c9b877ee-3760-497a-9002-c71dc03f0088",
   "metadata": {},
   "source": [
    "# Ejercicio\n",
    "Programa que solciite la edad y responda por pantalla si eres mayor o menor de edad"
   ]
  },
  {
   "cell_type": "code",
   "execution_count": null,
   "id": "7312cf57-1563-450a-90d1-1a7ba548016f",
   "metadata": {},
   "outputs": [
    {
     "name": "stdout",
     "output_type": "stream",
     "text": [
      "Introduzca la edad\n"
     ]
    }
   ],
   "source": [
    "print(\"Introduzca la edad\")\n",
    "nombre = input()\n",
    "if int (nombre)>=18:\n",
    "    print(\"Eres mayor de edad\")\n",
    "else:\n",
    "    print(\"Eres menor de edad, cuidadito...\")"
   ]
  },
  {
   "cell_type": "code",
   "execution_count": null,
   "id": "5a823628-ec97-4f55-b338-d1806d2c0f51",
   "metadata": {},
   "outputs": [],
   "source": []
  }
 ],
 "metadata": {
  "kernelspec": {
   "display_name": "Python 3 (ipykernel)",
   "language": "python",
   "name": "python3"
  },
  "language_info": {
   "codemirror_mode": {
    "name": "ipython",
    "version": 3
   },
   "file_extension": ".py",
   "mimetype": "text/x-python",
   "name": "python",
   "nbconvert_exporter": "python",
   "pygments_lexer": "ipython3",
   "version": "3.11.1"
  }
 },
 "nbformat": 4,
 "nbformat_minor": 5
}
