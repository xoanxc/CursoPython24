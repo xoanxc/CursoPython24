{
 "cells": [
  {
   "cell_type": "markdown",
   "id": "58ec0b6c-e7c3-42d9-a589-10bb36e3b556",
   "metadata": {},
   "source": [
    "Notebook de ejemplo de Python"
   ]
  },
  {
   "cell_type": "code",
   "execution_count": 1,
   "id": "ba228f62-226f-47f1-9305-221a40dab1e5",
   "metadata": {},
   "outputs": [
    {
     "data": {
      "text/plain": [
       "20"
      ]
     },
     "execution_count": 1,
     "metadata": {},
     "output_type": "execute_result"
    }
   ],
   "source": [
    "2+3*6"
   ]
  },
  {
   "cell_type": "code",
   "execution_count": null,
   "id": "c6267877-d8f6-4315-b953-61a7cc06219e",
   "metadata": {},
   "outputs": [],
   "source": [
    "potencia=2"
   ]
  }
 ],
 "metadata": {
  "kernelspec": {
   "display_name": "Python 3 (ipykernel)",
   "language": "python",
   "name": "python3"
  },
  "language_info": {
   "codemirror_mode": {
    "name": "ipython",
    "version": 3
   },
   "file_extension": ".py",
   "mimetype": "text/x-python",
   "name": "python",
   "nbconvert_exporter": "python",
   "pygments_lexer": "ipython3",
   "version": "3.11.1"
  }
 },
 "nbformat": 4,
 "nbformat_minor": 5
}
