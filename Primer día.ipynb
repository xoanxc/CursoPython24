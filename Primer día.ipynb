{
 "cells": [
  {
   "cell_type": "markdown",
   "id": "ed1ca8b5-a179-414a-ba3d-048fd30b7708",
   "metadata": {},
   "source": [
    "Notebook de ejemplo de Python"
   ]
  },
  {
   "cell_type": "code",
   "execution_count": 1,
   "id": "15034bc8-1fdc-4833-8f9b-1d7cbe83da6f",
   "metadata": {},
   "outputs": [
    {
     "data": {
      "text/plain": [
       "20"
      ]
     },
     "execution_count": 1,
     "metadata": {},
     "output_type": "execute_result"
    }
   ],
   "source": [
    "2+3*6"
   ]
  },
  {
   "cell_type": "code",
   "execution_count": 4,
   "id": "be80eaaf-fe3c-4c1e-9728-4b786ac52597",
   "metadata": {},
   "outputs": [],
   "source": [
    "potencia=2**10"
   ]
  },
  {
   "cell_type": "code",
   "execution_count": 5,
   "id": "2d6771a1-b12a-4349-bb23-2b1b36789d67",
   "metadata": {},
   "outputs": [
    {
     "name": "stdout",
     "output_type": "stream",
     "text": [
      "1024\n"
     ]
    }
   ],
   "source": [
    "print(potencia)"
   ]
  },
  {
   "cell_type": "code",
   "execution_count": 7,
   "id": "ba7f2d14-c75d-4819-8fc5-b1bfdf18f794",
   "metadata": {},
   "outputs": [
    {
     "name": "stdout",
     "output_type": "stream",
     "text": [
      "3.3333333333333335\n"
     ]
    }
   ],
   "source": [
    "print(10/3)"
   ]
  },
  {
   "cell_type": "code",
   "execution_count": 9,
   "id": "6e585d50-a967-4d4b-8db9-31ce22eee755",
   "metadata": {},
   "outputs": [
    {
     "data": {
      "text/plain": [
       "3"
      ]
     },
     "execution_count": 9,
     "metadata": {},
     "output_type": "execute_result"
    }
   ],
   "source": [
    "10//3 #división entera"
   ]
  },
  {
   "cell_type": "code",
   "execution_count": 10,
   "id": "58f3bc1c-da6d-4fb5-a4df-d34494162446",
   "metadata": {},
   "outputs": [
    {
     "data": {
      "text/plain": [
       "1"
      ]
     },
     "execution_count": 10,
     "metadata": {},
     "output_type": "execute_result"
    }
   ],
   "source": [
    "10%3 #resto"
   ]
  },
  {
   "cell_type": "code",
   "execution_count": 14,
   "id": "e872f4e8-f70f-4a05-ac00-7fc2bb9f92ba",
   "metadata": {},
   "outputs": [],
   "source": [
    "a=5"
   ]
  },
  {
   "cell_type": "code",
   "execution_count": 16,
   "id": "4b46973f-c879-4c46-a5a5-c5491de8eac3",
   "metadata": {},
   "outputs": [],
   "source": [
    "a= \"Hola\""
   ]
  },
  {
   "cell_type": "code",
   "execution_count": 18,
   "id": "0d8b58fb-fac5-4a61-b469-d418c12e9677",
   "metadata": {},
   "outputs": [
    {
     "data": {
      "text/plain": [
       "(str, int)"
      ]
     },
     "execution_count": 18,
     "metadata": {},
     "output_type": "execute_result"
    }
   ],
   "source": [
    "type(a),type(5)"
   ]
  },
  {
   "cell_type": "code",
   "execution_count": 1,
   "id": "5a64a7df-7525-48ee-8c17-1bb5191b236b",
   "metadata": {},
   "outputs": [
    {
     "name": "stdout",
     "output_type": "stream",
     "text": [
      "Hola\n",
      "¿Cómo te llamas?\n"
     ]
    },
    {
     "name": "stdin",
     "output_type": "stream",
     "text": [
      " Alberto\n"
     ]
    },
    {
     "name": "stdout",
     "output_type": "stream",
     "text": [
      "Encantado de conocerte Alberto\n"
     ]
    }
   ],
   "source": [
    "print(\"Hola\")\n",
    "print(\"¿Cómo te llamas?\")\n",
    "nombre = input()\n",
    "print(\"Encantado de conocerte \" + nombre)"
   ]
  },
  {
   "cell_type": "code",
   "execution_count": 2,
   "id": "717a762c-ae4d-49e4-aed3-992b45afcfd2",
   "metadata": {},
   "outputs": [
    {
     "data": {
      "text/plain": [
       "False"
      ]
     },
     "execution_count": 2,
     "metadata": {},
     "output_type": "execute_result"
    }
   ],
   "source": [
    "nombre.isnumeric()"
   ]
  },
  {
   "cell_type": "code",
   "execution_count": 4,
   "id": "59f6c0db-ac2c-4adf-87f4-94c6e4f44a16",
   "metadata": {},
   "outputs": [
    {
     "ename": "IndentationError",
     "evalue": "expected an indented block after 'if' statement on line 1 (1759999852.py, line 2)",
     "output_type": "error",
     "traceback": [
      "\u001b[1;36m  Cell \u001b[1;32mIn[4], line 2\u001b[1;36m\u001b[0m\n\u001b[1;33m    print(\"5 es mayor que 4\")\u001b[0m\n\u001b[1;37m    ^\u001b[0m\n\u001b[1;31mIndentationError\u001b[0m\u001b[1;31m:\u001b[0m expected an indented block after 'if' statement on line 1\n"
     ]
    }
   ],
   "source": [
    "if 3>4:\n",
    "    print(\"5 es mayor que 4\")\n",
    "else:\n",
    "    print(\"no se cumple\")"
   ]
  },
  {
   "cell_type": "markdown",
   "id": "ef041551-f2ff-4dd6-ac74-ba6eb24f8db7",
   "metadata": {},
   "source": [
    "# Ejercicio\n",
    "Programa que pida la edad y saque por pantalla si eres mayor o menor de edad"
   ]
  },
  {
   "cell_type": "code",
   "execution_count": 27,
   "id": "dd6203a3-8fdc-4fb5-89a1-2336bdbd14db",
   "metadata": {},
   "outputs": [
    {
     "data": {
      "text/plain": [
       "0"
      ]
     },
     "execution_count": 27,
     "metadata": {},
     "output_type": "execute_result"
    }
   ],
   "source": [
    "0"
   ]
  },
  {
   "cell_type": "code",
   "execution_count": 28,
   "id": "3f22db18-d7cd-4027-865d-d02dc45a3391",
   "metadata": {},
   "outputs": [
    {
     "data": {
      "text/plain": [
       "'0'"
      ]
     },
     "execution_count": 28,
     "metadata": {},
     "output_type": "execute_result"
    }
   ],
   "source": [
    "\"0\""
   ]
  },
  {
   "cell_type": "code",
   "execution_count": 29,
   "id": "07a3f97c-1556-4b6d-a138-7fd41dd75d3f",
   "metadata": {},
   "outputs": [
    {
     "data": {
      "text/plain": [
       "0"
      ]
     },
     "execution_count": 29,
     "metadata": {},
     "output_type": "execute_result"
    }
   ],
   "source": [
    "int(\"0\")"
   ]
  },
  {
   "cell_type": "code",
   "execution_count": 6,
   "id": "122f151a-18b3-4581-8bb6-c2814172a4e3",
   "metadata": {},
   "outputs": [
    {
     "name": "stdout",
     "output_type": "stream",
     "text": [
      "Inserta la edad:\n"
     ]
    },
    {
     "name": "stdin",
     "output_type": "stream",
     "text": [
      " HOla\n"
     ]
    },
    {
     "name": "stdout",
     "output_type": "stream",
     "text": [
      "Debes escribir un número\n"
     ]
    }
   ],
   "source": [
    "print(\"Inserta la edad:\")\n",
    "edad = input()\n",
    "if edad.isnumeric():\n",
    "    edad =int(edad)\n",
    "    if edad >= 18:\n",
    "        print(\"Mayor de edad\")\n",
    "    else:\n",
    "        print (\"Menor de edad\")\n",
    "else:\n",
    "    print(\"Debes escribir un número\")"
   ]
  },
  {
   "cell_type": "code",
   "execution_count": 7,
   "id": "1d03e2d7-0113-4fd5-987c-346cb70b5a4b",
   "metadata": {},
   "outputs": [
    {
     "name": "stdout",
     "output_type": "stream",
     "text": [
      "Inserta la edad:\n"
     ]
    },
    {
     "name": "stdin",
     "output_type": "stream",
     "text": [
      " Ho\n"
     ]
    },
    {
     "name": "stdout",
     "output_type": "stream",
     "text": [
      "Debes escribir un número\n",
      "Inserta la edad:\n"
     ]
    },
    {
     "name": "stdin",
     "output_type": "stream",
     "text": [
      " hola\n"
     ]
    },
    {
     "name": "stdout",
     "output_type": "stream",
     "text": [
      "Debes escribir un número\n",
      "Inserta la edad:\n"
     ]
    },
    {
     "name": "stdin",
     "output_type": "stream",
     "text": [
      " 15\n"
     ]
    },
    {
     "name": "stdout",
     "output_type": "stream",
     "text": [
      "Menor de edad\n"
     ]
    }
   ],
   "source": [
    "while True: #do-while en Python\n",
    "    print(\"Inserta la edad:\")\n",
    "    edad = input()\n",
    "    if edad.isnumeric():\n",
    "        edad =int(edad)\n",
    "        if edad >= 18:\n",
    "            print(\"Mayor de edad\")\n",
    "        else:\n",
    "            print (\"Menor de edad\")\n",
    "        break\n",
    "    else:\n",
    "        print(\"Debes escribir un número\")"
   ]
  },
  {
   "cell_type": "markdown",
   "id": "c802a41f-0300-4337-8b6f-f9da782bd324",
   "metadata": {},
   "source": [
    "Deberes: comprobar que edad sea un número"
   ]
  },
  {
   "cell_type": "code",
   "execution_count": 1,
   "id": "722e8b4f-64f9-46fe-9229-d961e52df416",
   "metadata": {},
   "outputs": [],
   "source": [
    "valores= [4,5,3,8,2,7,9]"
   ]
  },
  {
   "cell_type": "code",
   "execution_count": 2,
   "id": "ade52074-1108-4af8-95ed-c843e07cec21",
   "metadata": {},
   "outputs": [
    {
     "data": {
      "text/plain": [
       "4"
      ]
     },
     "execution_count": 2,
     "metadata": {},
     "output_type": "execute_result"
    }
   ],
   "source": [
    "valores[0]"
   ]
  },
  {
   "cell_type": "code",
   "execution_count": 3,
   "id": "b97727d3-3540-460b-9cbb-399be39b1a84",
   "metadata": {},
   "outputs": [
    {
     "name": "stdout",
     "output_type": "stream",
     "text": [
      "4\n",
      "5\n",
      "3\n",
      "8\n",
      "2\n",
      "7\n",
      "9\n"
     ]
    }
   ],
   "source": [
    "for valor in valores:\n",
    "    print(valor)"
   ]
  },
  {
   "cell_type": "code",
   "execution_count": 4,
   "id": "5f523a6e-4d30-4138-85e8-389c8d1c9f15",
   "metadata": {},
   "outputs": [
    {
     "data": {
      "text/plain": [
       "list"
      ]
     },
     "execution_count": 4,
     "metadata": {},
     "output_type": "execute_result"
    }
   ],
   "source": [
    "type(valores)"
   ]
  },
  {
   "cell_type": "code",
   "execution_count": 5,
   "id": "e1620db8-7d16-432a-a1d7-44168b73416e",
   "metadata": {},
   "outputs": [
    {
     "data": {
      "text/plain": [
       "int"
      ]
     },
     "execution_count": 5,
     "metadata": {},
     "output_type": "execute_result"
    }
   ],
   "source": [
    "type(valor)"
   ]
  },
  {
   "cell_type": "code",
   "execution_count": 1,
   "id": "85f33d39-afb2-48b8-aea7-de2041a46a16",
   "metadata": {},
   "outputs": [
    {
     "name": "stdout",
     "output_type": "stream",
     "text": [
      "Collecting matplotlib\n",
      "  Downloading matplotlib-3.8.4-cp311-cp311-win_amd64.whl (7.7 MB)\n",
      "     ---------------------------------------- 7.7/7.7 MB 3.2 MB/s eta 0:00:00\n",
      "Collecting contourpy>=1.0.1\n",
      "  Downloading contourpy-1.2.1-cp311-cp311-win_amd64.whl (188 kB)\n",
      "     -------------------------------------- 188.2/188.2 kB 1.9 MB/s eta 0:00:00\n",
      "Collecting cycler>=0.10\n",
      "  Downloading cycler-0.12.1-py3-none-any.whl (8.3 kB)\n",
      "Collecting fonttools>=4.22.0\n",
      "  Downloading fonttools-4.51.0-cp311-cp311-win_amd64.whl (2.2 MB)\n",
      "     ---------------------------------------- 2.2/2.2 MB 3.1 MB/s eta 0:00:00\n",
      "Collecting kiwisolver>=1.3.1\n",
      "  Downloading kiwisolver-1.4.5-cp311-cp311-win_amd64.whl (56 kB)\n",
      "     ---------------------------------------- 56.1/56.1 kB 1.5 MB/s eta 0:00:00\n",
      "Collecting numpy>=1.21\n",
      "  Using cached numpy-1.26.4-cp311-cp311-win_amd64.whl (15.8 MB)\n",
      "Requirement already satisfied: packaging>=20.0 in c:\\users\\alberto\\appdata\\local\\programs\\python\\python311\\lib\\site-packages (from matplotlib) (24.0)\n",
      "Requirement already satisfied: pillow>=8 in c:\\users\\alberto\\appdata\\local\\programs\\python\\python311\\lib\\site-packages (from matplotlib) (10.3.0)\n",
      "Collecting pyparsing>=2.3.1\n",
      "  Downloading pyparsing-3.1.2-py3-none-any.whl (103 kB)\n",
      "     -------------------------------------- 103.2/103.2 kB 5.8 MB/s eta 0:00:00\n",
      "Requirement already satisfied: python-dateutil>=2.7 in c:\\users\\alberto\\appdata\\local\\programs\\python\\python311\\lib\\site-packages (from matplotlib) (2.9.0.post0)\n",
      "Requirement already satisfied: six>=1.5 in c:\\users\\alberto\\appdata\\local\\programs\\python\\python311\\lib\\site-packages (from python-dateutil>=2.7->matplotlib) (1.16.0)\n",
      "Installing collected packages: pyparsing, numpy, kiwisolver, fonttools, cycler, contourpy, matplotlib\n",
      "Successfully installed contourpy-1.2.1 cycler-0.12.1 fonttools-4.51.0 kiwisolver-1.4.5 matplotlib-3.8.4 numpy-1.26.4 pyparsing-3.1.2\n"
     ]
    },
    {
     "name": "stderr",
     "output_type": "stream",
     "text": [
      "\n",
      "[notice] A new release of pip available: 22.3.1 -> 24.0\n",
      "[notice] To update, run: python.exe -m pip install --upgrade pip\n"
     ]
    }
   ],
   "source": [
    "#Instala matplotlib\n",
    "!pip install matplotlib"
   ]
  },
  {
   "cell_type": "code",
   "execution_count": 7,
   "id": "867ebc83-9ef8-45cf-88c7-fa53134440de",
   "metadata": {},
   "outputs": [],
   "source": [
    "import matplotlib.pyplot as grafica"
   ]
  },
  {
   "cell_type": "code",
   "execution_count": 8,
   "id": "a465d298-3533-4688-b7c4-0a13e9ce90f9",
   "metadata": {},
   "outputs": [],
   "source": [
    "x=range(len(valores))"
   ]
  },
  {
   "cell_type": "code",
   "execution_count": 9,
   "id": "268dc837-1452-4809-8176-6baf23a2e8f4",
   "metadata": {},
   "outputs": [
    {
     "data": {
      "text/plain": [
       "[0, 1, 2, 3, 4, 5, 6]"
      ]
     },
     "execution_count": 9,
     "metadata": {},
     "output_type": "execute_result"
    }
   ],
   "source": [
    "list(x)"
   ]
  },
  {
   "cell_type": "code",
   "execution_count": 10,
   "id": "dfd3f29b-fbf0-4c37-9f61-a403fa485619",
   "metadata": {},
   "outputs": [
    {
     "data": {
      "text/plain": [
       "<BarContainer object of 7 artists>"
      ]
     },
     "execution_count": 10,
     "metadata": {},
     "output_type": "execute_result"
    },
    {
     "data": {
      "image/png": "[encoded data removed]",
      "text/plain": [
       "<Figure size 640x480 with 1 Axes>"
      ]
     },
     "metadata": {},
     "output_type": "display_data"
    }
   ],
   "source": [
    "grafica.bar(x,valores)"
   ]
  },
  {
   "cell_type": "code",
   "execution_count": 50,
   "id": "9a9da7ad-1fec-4c3a-9e38-c01aca5b2678",
   "metadata": {},
   "outputs": [],
   "source": [
    "#grafica.show()"
   ]
  },
  {
   "cell_type": "code",
   "execution_count": 11,
   "id": "9d185f42-0872-4403-991e-bd84b08a641e",
   "metadata": {},
   "outputs": [
    {
     "data": {
      "text/plain": [
       "{'whiskers': [<matplotlib.lines.Line2D at 0x200c3da5e10>,\n",
       "  <matplotlib.lines.Line2D at 0x200c3da6c50>],\n",
       " 'caps': [<matplotlib.lines.Line2D at 0x200c3357950>,\n",
       "  <matplotlib.lines.Line2D at 0x200c3dac3d0>],\n",
       " 'boxes': [<matplotlib.lines.Line2D at 0x200c3373e10>],\n",
       " 'medians': [<matplotlib.lines.Line2D at 0x200c3dace10>],\n",
       " 'fliers': [<matplotlib.lines.Line2D at 0x200c3dad990>],\n",
       " 'means': []}"
      ]
     },
     "execution_count": 11,
     "metadata": {},
     "output_type": "execute_result"
    },
    {
     "data": {
      "image/png": "[encoded data removed]",
      "text/plain": [
       "<Figure size 640x480 with 1 Axes>"
      ]
     },
     "metadata": {},
     "output_type": "display_data"
    }
   ],
   "source": [
    "grafica.boxplot(valores)"
   ]
  },
  {
   "cell_type": "code",
   "execution_count": null,
   "id": "d3e7f86b-4adc-453d-b06e-713630185196",
   "metadata": {},
   "outputs": [],
   "source": []
  }
 ],
 "metadata": {
  "kernelspec": {
   "display_name": "Python 3 (ipykernel)",
   "language": "python",
   "name": "python3"
  },
  "language_info": {
   "codemirror_mode": {
    "name": "ipython",
    "version": 3
   },
   "file_extension": ".py",
   "mimetype": "text/x-python",
   "name": "python",
   "nbconvert_exporter": "python",
   "pygments_lexer": "ipython3",
   "version": "3.11.1"
  }
 },
 "nbformat": 4,
 "nbformat_minor": 5
}
