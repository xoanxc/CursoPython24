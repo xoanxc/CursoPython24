{
 "cells": [
  {
   "cell_type": "code",
   "execution_count": 1,
   "metadata": {
    "id": "0EuWel2KptG1"
   },
   "outputs": [],
   "source": [
    "lista=[3,\"perro\",(2,3)]\n"
   ]
  },
  {
   "cell_type": "code",
   "execution_count": 3,
   "metadata": {
    "colab": {
     "base_uri": "https://localhost:8080/"
    },
    "id": "e2KhHYarsJ2F",
    "outputId": "d1a0ced6-4429-407c-c6d9-260fd8b2a50c"
   },
   "outputs": [
    {
     "name": "stdout",
     "output_type": "stream",
     "text": [
      "3  Tipo de dato: <class 'int'>\n",
      "perro  Tipo de dato: <class 'str'>\n",
      "(2, 3)  Tipo de dato: <class 'tuple'>\n"
     ]
    }
   ],
   "source": [
    "for elemento in lista:\n",
    "  print(elemento,\" Tipo de dato:\",type(elemento))"
   ]
  },
  {
   "cell_type": "code",
   "execution_count": 8,
   "metadata": {
    "colab": {
     "base_uri": "https://localhost:8080/",
     "height": 35
    },
    "id": "vlTDFYNtsals",
    "outputId": "6f0cde62-92c9-49ab-ea41-3cb63550aa50"
   },
   "outputs": [
    {
     "data": {
      "application/vnd.google.colaboratory.intrinsic+json": {
       "type": "string"
      },
      "text/plain": [
       "'perr'"
      ]
     },
     "execution_count": 8,
     "metadata": {},
     "output_type": "execute_result"
    }
   ],
   "source": [
    "lista[1][:4]"
   ]
  },
  {
   "cell_type": "code",
   "execution_count": 9,
   "metadata": {
    "colab": {
     "base_uri": "https://localhost:8080/"
    },
    "id": "eJjDypJ7s9K3",
    "outputId": "85c50a9e-c9a3-46e2-8214-f54e101c11b7"
   },
   "outputs": [
    {
     "data": {
      "text/plain": [
       "(2, 3)"
      ]
     },
     "execution_count": 9,
     "metadata": {},
     "output_type": "execute_result"
    }
   ],
   "source": [
    "lista[2]"
   ]
  },
  {
   "cell_type": "code",
   "execution_count": 10,
   "metadata": {
    "colab": {
     "base_uri": "https://localhost:8080/"
    },
    "id": "nk3q39PQtnUK",
    "outputId": "be3e6bc5-2bc8-435d-9249-bad370a666fa"
   },
   "outputs": [
    {
     "data": {
      "text/plain": [
       "2"
      ]
     },
     "execution_count": 10,
     "metadata": {},
     "output_type": "execute_result"
    }
   ],
   "source": [
    "lista[2][0]"
   ]
  },
  {
   "cell_type": "code",
   "execution_count": 11,
   "metadata": {
    "id": "hY7FfzNytruw"
   },
   "outputs": [],
   "source": [
    "dic={\n",
    "    \"forma\":\"cuadrado\",\n",
    "    \"color\":\"rojo\",\n",
    "    \"lado\":10\n",
    "}\n",
    "#clave,valor"
   ]
  },
  {
   "cell_type": "code",
   "execution_count": 12,
   "metadata": {
    "colab": {
     "base_uri": "https://localhost:8080/",
     "height": 35
    },
    "id": "Y-0hVTrbupRD",
    "outputId": "1b135186-8ff8-4611-98c7-36be750941f9"
   },
   "outputs": [
    {
     "data": {
      "application/vnd.google.colaboratory.intrinsic+json": {
       "type": "string"
      },
      "text/plain": [
       "'cuadrado'"
      ]
     },
     "execution_count": 12,
     "metadata": {},
     "output_type": "execute_result"
    }
   ],
   "source": [
    "dic[\"forma\"]"
   ]
  },
  {
   "cell_type": "code",
   "execution_count": 13,
   "metadata": {
    "colab": {
     "base_uri": "https://localhost:8080/",
     "height": 35
    },
    "id": "uUGa6n79vlXg",
    "outputId": "f0b5692d-5482-4d9f-ab6e-60db6a3ce095"
   },
   "outputs": [
    {
     "data": {
      "application/vnd.google.colaboratory.intrinsic+json": {
       "type": "string"
      },
      "text/plain": [
       "'rojo'"
      ]
     },
     "execution_count": 13,
     "metadata": {},
     "output_type": "execute_result"
    }
   ],
   "source": [
    "dic[\"color\"]"
   ]
  },
  {
   "cell_type": "code",
   "execution_count": 14,
   "metadata": {
    "colab": {
     "base_uri": "https://localhost:8080/"
    },
    "id": "13lZXXivvrr1",
    "outputId": "8983fab3-85cd-48b3-f63f-4015d9e73ad4"
   },
   "outputs": [
    {
     "data": {
      "text/plain": [
       "dict_keys(['forma', 'color', 'lado'])"
      ]
     },
     "execution_count": 14,
     "metadata": {},
     "output_type": "execute_result"
    }
   ],
   "source": [
    "dic.keys()"
   ]
  },
  {
   "cell_type": "code",
   "execution_count": 15,
   "metadata": {
    "colab": {
     "base_uri": "https://localhost:8080/"
    },
    "id": "w1PkmESawohx",
    "outputId": "c235b703-d08e-4b0f-a503-3dc5bc6f1108"
   },
   "outputs": [
    {
     "data": {
      "text/plain": [
       "dict_values(['cuadrado', 'rojo', 10])"
      ]
     },
     "execution_count": 15,
     "metadata": {},
     "output_type": "execute_result"
    }
   ],
   "source": [
    "dic.values()"
   ]
  },
  {
   "cell_type": "code",
   "execution_count": 16,
   "metadata": {
    "colab": {
     "base_uri": "https://localhost:8080/"
    },
    "id": "_Dqk-OOIw2Tt",
    "outputId": "6d51b423-489b-45ed-873c-f9f91b70f247"
   },
   "outputs": [
    {
     "data": {
      "text/plain": [
       "dict_items([('forma', 'cuadrado'), ('color', 'rojo'), ('lado', 10)])"
      ]
     },
     "execution_count": 16,
     "metadata": {},
     "output_type": "execute_result"
    }
   ],
   "source": [
    "dic.items()"
   ]
  },
  {
   "cell_type": "code",
   "execution_count": 27,
   "metadata": {
    "colab": {
     "base_uri": "https://localhost:8080/"
    },
    "id": "hYDKZteSxNOi",
    "outputId": "f0065be5-b7e7-40e1-ec4b-8b3ede74a99e"
   },
   "outputs": [
    {
     "name": "stdout",
     "output_type": "stream",
     "text": [
      "color\n"
     ]
    }
   ],
   "source": [
    "for elemento in dic.items():\n",
    "  if  \"rojo\" == str(elemento[1]):\n",
    "    print(elemento[0])"
   ]
  },
  {
   "cell_type": "code",
   "execution_count": 29,
   "metadata": {
    "colab": {
     "base_uri": "https://localhost:8080/",
     "height": 144
    },
    "id": "A8qBITCqxktg",
    "outputId": "cbcfe7d7-a1f1-425b-de27-7bb9d0a90a43"
   },
   "outputs": [
    {
     "ename": "KeyError",
     "evalue": "'radio'",
     "output_type": "error",
     "traceback": [
      "\u001b[0;31m---------------------------------------------------------------------------\u001b[0m",
      "\u001b[0;31mKeyError\u001b[0m                                  Traceback (most recent call last)",
      "\u001b[0;32m<ipython-input-29-34b622773403>\u001b[0m in \u001b[0;36m<cell line: 1>\u001b[0;34m()\u001b[0m\n\u001b[0;32m----> 1\u001b[0;31m \u001b[0mdic\u001b[0m\u001b[0;34m[\u001b[0m\u001b[0;34m\"radio\"\u001b[0m\u001b[0;34m]\u001b[0m\u001b[0;34m\u001b[0m\u001b[0;34m\u001b[0m\u001b[0m\n\u001b[0m",
      "\u001b[0;31mKeyError\u001b[0m: 'radio'"
     ]
    }
   ],
   "source": [
    "dic[\"radio\"]"
   ]
  },
  {
   "cell_type": "code",
   "execution_count": 30,
   "metadata": {
    "colab": {
     "base_uri": "https://localhost:8080/"
    },
    "id": "WqmTQTDvxynl",
    "outputId": "772a0946-d70b-4359-e60f-6d6c5facd64e"
   },
   "outputs": [
    {
     "data": {
      "text/plain": [
       "0"
      ]
     },
     "execution_count": 30,
     "metadata": {},
     "output_type": "execute_result"
    }
   ],
   "source": [
    "dic.get(\"radio\",0)"
   ]
  },
  {
   "cell_type": "code",
   "execution_count": 5,
   "metadata": {
    "id": "iPTNpirkx2-u"
   },
   "outputs": [],
   "source": [
    "import requests"
   ]
  },
  {
   "cell_type": "code",
   "execution_count": 2,
   "metadata": {
    "id": "DFY9EuGwyIt6"
   },
   "outputs": [],
   "source": [
    "url=\"http://servizos.meteogalicia.gal/rss/observacion/observacionConcellos.action\"\n"
   ]
  },
  {
   "cell_type": "code",
   "execution_count": 3,
   "metadata": {
    "id": "qui_rTud1nM5"
   },
   "outputs": [],
   "source": [
    "respuesta=requests.get(url)"
   ]
  },
  {
   "cell_type": "code",
   "execution_count": 4,
   "metadata": {
    "colab": {
     "base_uri": "https://localhost:8080/"
    },
    "id": "BJkR1ZgR2vKx",
    "outputId": "961be5e4-9695-4456-9684-dfff53cf27af"
   },
   "outputs": [
    {
     "data": {
      "text/plain": [
       "<Response [200]>"
      ]
     },
     "execution_count": 4,
     "metadata": {},
     "output_type": "execute_result"
    }
   ],
   "source": [
    "respuesta"
   ]
  },
  {
   "cell_type": "code",
   "execution_count": 38,
   "metadata": {
    "id": "pDmzPfpv3cQ-"
   },
   "outputs": [],
   "source": [
    "d=respuesta.json()"
   ]
  },
  {
   "cell_type": "code",
   "execution_count": 40,
   "metadata": {
    "id": "cKDqffmN4TdW"
   },
   "outputs": [],
   "source": [
    "listaConcellos=d[\"listaObservacionConcellos\"]"
   ]
  },
  {
   "cell_type": "code",
   "execution_count": 41,
   "metadata": {
    "colab": {
     "base_uri": "https://localhost:8080/"
    },
    "id": "xs_0dXZF5NlP",
    "outputId": "2646c7ce-cdc4-469b-a063-2cd8cc3cf3e4",
    "scrolled": true
   },
   "outputs": [
    {
     "data": {
      "text/plain": [
       "{'dataLocal': '2024-05-16T16:37:00',\n",
       " 'dataUTC': '2024-05-16T14:37:00',\n",
       " 'icoEstadoCeo': 111,\n",
       " 'icoVento': 306,\n",
       " 'idConcello': 15007,\n",
       " 'nomeConcello': 'A Baña',\n",
       " 'sensacionTermica': 11.7,\n",
       " 'temperatura': 11.7}"
      ]
     },
     "execution_count": 41,
     "metadata": {},
     "output_type": "execute_result"
    }
   ],
   "source": [
    "listaConcellos[0]"
   ]
  },
  {
   "cell_type": "code",
   "execution_count": 44,
   "metadata": {
    "colab": {
     "base_uri": "https://localhost:8080/"
    },
    "id": "F7Btwazr5eY6",
    "outputId": "c488aded-ba74-4f49-ff41-eede2c49d3b4"
   },
   "outputs": [
    {
     "name": "stdout",
     "output_type": "stream",
     "text": [
      "A Baña 11.7 ºC\n"
     ]
    }
   ],
   "source": [
    "print(listaConcellos[0][\"nomeConcello\"],listaConcellos[0][\"temperatura\"],\"ºC\")"
   ]
  },
  {
   "cell_type": "code",
   "execution_count": 47,
   "metadata": {
    "colab": {
     "base_uri": "https://localhost:8080/"
    },
    "id": "6cdCb38D6t0J",
    "outputId": "e39352e1-b4f0-49b1-f7cb-50a884ea47b6"
   },
   "outputs": [
    {
     "name": "stdout",
     "output_type": "stream",
     "text": [
      "A Coruña 14.2 ºC\n",
      "Ferrol 13.1 ºC\n",
      "Lugo 13.2 ºC\n",
      "Ourense 15.9 ºC\n",
      "Pontevedra 14.7 ºC\n",
      "Santiago de Compostela 12.0 ºC\n",
      "Vigo 14.2 ºC\n"
     ]
    }
   ],
   "source": [
    "ciudades=[\"Vigo\",\"Pontevedra\",\"Santiago de Compostela\",\"Ourense\",\"A Coruña\",\"Lugo\",\"Ferrol\"]\n",
    "for elemento in listaConcellos:\n",
    "  if elemento[\"nomeConcello\"] in ciudades:\n",
    "    print(elemento[\"nomeConcello\"],elemento[\"temperatura\"],\"ºC\")"
   ]
  },
  {
   "cell_type": "code",
   "execution_count": null,
   "metadata": {
    "id": "AZgFplOJ78I7"
   },
   "outputs": [],
   "source": []
  }
 ],
 "metadata": {
  "colab": {
   "provenance": []
  },
  "kernelspec": {
   "display_name": "Python 3 (ipykernel)",
   "language": "python",
   "name": "python3"
  },
  "language_info": {
   "codemirror_mode": {
    "name": "ipython",
    "version": 3
   },
   "file_extension": ".py",
   "mimetype": "text/x-python",
   "name": "python",
   "nbconvert_exporter": "python",
   "pygments_lexer": "ipython3",
   "version": "3.11.1"
  }
 },
 "nbformat": 4,
 "nbformat_minor": 4
}
