{
 "cells": [
  {
   "cell_type": "markdown",
   "id": "850b4ee5-3c5f-417f-8a9d-598dd114e11c",
   "metadata": {},
   "source": [
    "# Listas"
   ]
  },
  {
   "cell_type": "code",
   "execution_count": 2,
   "id": "a7b90a3b-af5d-486b-82b4-40fc6e56452c",
   "metadata": {},
   "outputs": [],
   "source": [
    "semana=[\"Lunes\", \"Martes\", \"Miercoles\", \"Jueves\", \"Viernes\", \"Sabado\", \"Domingo\"]"
   ]
  },
  {
   "cell_type": "code",
   "execution_count": 3,
   "id": "0bee9089-679d-4ac6-a04d-7982c91c69ec",
   "metadata": {},
   "outputs": [
    {
     "data": {
      "text/plain": [
       "'Lunes'"
      ]
     },
     "execution_count": 3,
     "metadata": {},
     "output_type": "execute_result"
    }
   ],
   "source": [
    "semana[0]"
   ]
  },
  {
   "cell_type": "code",
   "execution_count": 4,
   "id": "9787517b-05d3-419f-a45f-64ba5d37a0ea",
   "metadata": {},
   "outputs": [
    {
     "data": {
      "text/plain": [
       "['Lunes', 'Martes', 'Miercoles', 'Jueves', 'Viernes']"
      ]
     },
     "execution_count": 4,
     "metadata": {},
     "output_type": "execute_result"
    }
   ],
   "source": [
    "semana[0:5]"
   ]
  },
  {
   "cell_type": "code",
   "execution_count": 5,
   "id": "fd698a75-954d-4566-974f-3bcaa2485d4b",
   "metadata": {},
   "outputs": [],
   "source": [
    "finde=semana[5:]"
   ]
  },
  {
   "cell_type": "code",
   "execution_count": 6,
   "id": "8cef7864-670d-467b-ab01-5c1d47ef002e",
   "metadata": {},
   "outputs": [
    {
     "data": {
      "text/plain": [
       "['Sabado', 'Domingo']"
      ]
     },
     "execution_count": 6,
     "metadata": {},
     "output_type": "execute_result"
    }
   ],
   "source": [
    "finde"
   ]
  },
  {
   "cell_type": "code",
   "execution_count": 8,
   "id": "0675e16c-ac84-4e13-bd1c-81875b369e38",
   "metadata": {},
   "outputs": [
    {
     "data": {
      "text/plain": [
       "2"
      ]
     },
     "execution_count": 8,
     "metadata": {},
     "output_type": "execute_result"
    }
   ],
   "source": [
    "len(finde)"
   ]
  },
  {
   "cell_type": "code",
   "execution_count": 9,
   "id": "ffc625bf-6bc8-4033-94b4-3360023aba79",
   "metadata": {},
   "outputs": [],
   "source": [
    "finde.append(\"Lunes\")"
   ]
  },
  {
   "cell_type": "code",
   "execution_count": 10,
   "id": "f666332d-bc59-4257-909f-bc6675f559af",
   "metadata": {},
   "outputs": [
    {
     "data": {
      "text/plain": [
       "['Sabado', 'Domingo', 'Lunes']"
      ]
     },
     "execution_count": 10,
     "metadata": {},
     "output_type": "execute_result"
    }
   ],
   "source": [
    "finde"
   ]
  },
  {
   "cell_type": "code",
   "execution_count": 16,
   "id": "cbf41e16-0dca-4fa5-84a3-54e00ad56996",
   "metadata": {},
   "outputs": [
    {
     "name": "stdout",
     "output_type": "stream",
     "text": [
      "['Lunes', 'Martes', 'Miercoles', 'Jueves', 'Viernes', 'Sabado', 'Domingo']\n"
     ]
    }
   ],
   "source": [
    "print(semana)"
   ]
  },
  {
   "cell_type": "code",
   "execution_count": 12,
   "id": "3ea626e5-3720-4978-a8d6-63b1ba77f76f",
   "metadata": {},
   "outputs": [
    {
     "name": "stdout",
     "output_type": "stream",
     "text": [
      "Lunes\n",
      "Martes\n",
      "Miercoles\n",
      "Jueves\n",
      "Viernes\n",
      "Sabado\n",
      "Domingo\n"
     ]
    }
   ],
   "source": [
    "for dia in semana:\n",
    "    print(dia)"
   ]
  },
  {
   "cell_type": "code",
   "execution_count": 17,
   "id": "bfad19b3-5e6b-42bd-a17d-e76a2f983da2",
   "metadata": {},
   "outputs": [
    {
     "name": "stdout",
     "output_type": "stream",
     "text": [
      "Lunes\n",
      "Miercoles\n",
      "Viernes\n",
      "Domingo\n"
     ]
    }
   ],
   "source": [
    "for indice in range(7):\n",
    "    if indice%2 == 0:\n",
    "        print(semana[indice])"
   ]
  },
  {
   "cell_type": "markdown",
   "id": "1d91ace1-6d2e-4133-af3c-e51a5647c2d9",
   "metadata": {},
   "source": [
    "# Tupla"
   ]
  },
  {
   "cell_type": "code",
   "execution_count": 18,
   "id": "2c1bed96-df7c-40be-a051-889568d0f890",
   "metadata": {},
   "outputs": [],
   "source": [
    "tupla = (\"Lunes\", \"Martes\")"
   ]
  },
  {
   "cell_type": "code",
   "execution_count": 19,
   "id": "9cde4372-0267-4260-af06-c6a162297c98",
   "metadata": {},
   "outputs": [
    {
     "data": {
      "text/plain": [
       "'Lunes'"
      ]
     },
     "execution_count": 19,
     "metadata": {},
     "output_type": "execute_result"
    }
   ],
   "source": [
    "tupla[0]"
   ]
  },
  {
   "cell_type": "code",
   "execution_count": 29,
   "id": "b4569f7d-14ef-4655-b67d-eafbdd9edef1",
   "metadata": {},
   "outputs": [],
   "source": [
    "precios=[\n",
    "    (\"Manzana\", 2),\n",
    "    (\"Naranjas\", 3)\n",
    "]"
   ]
  },
  {
   "cell_type": "code",
   "execution_count": 30,
   "id": "44c65085-fd03-48bb-b6bf-3cb02909369e",
   "metadata": {},
   "outputs": [
    {
     "data": {
      "text/plain": [
       "[('Manzana', 2), ('Naranjas', 3)]"
      ]
     },
     "metadata": {},
     "output_type": "display_data"
    }
   ],
   "source": [
    "display(precios)"
   ]
  },
  {
   "cell_type": "code",
   "execution_count": null,
   "id": "6a8eeee8-6c56-4736-b8df-0625fdf8cc46",
   "metadata": {},
   "outputs": [],
   "source": []
  }
 ],
 "metadata": {
  "kernelspec": {
   "display_name": "Python 3 (ipykernel)",
   "language": "python",
   "name": "python3"
  },
  "language_info": {
   "codemirror_mode": {
    "name": "ipython",
    "version": 3
   },
   "file_extension": ".py",
   "mimetype": "text/x-python",
   "name": "python",
   "nbconvert_exporter": "python",
   "pygments_lexer": "ipython3",
   "version": "3.11.1"
  }
 },
 "nbformat": 4,
 "nbformat_minor": 5
}
